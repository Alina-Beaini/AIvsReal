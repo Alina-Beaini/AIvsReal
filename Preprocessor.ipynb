{
 "cells": [
  {
   "cell_type": "code",
   "execution_count": 1,
   "id": "b8c9eb6f",
   "metadata": {},
   "outputs": [],
   "source": [
    "#Create constants and import libraries\n",
    "UNPROCESSED_DIRECTORY = \"CNN_synth_testset\"\n",
    "PROCESSED_DIRECTORY = \"processed_images\"\n",
    "CROP = False\n",
    "import os\n",
    "import numpy as np\n",
    "from PIL import Image as im_lib\n",
    "from random import randint"
   ]
  },
  {
   "cell_type": "code",
   "execution_count": 2,
   "id": "553b8d7d",
   "metadata": {
    "scrolled": true
   },
   "outputs": [],
   "source": [
    "# This function obtains unprocessed image paths and returns the list of those paths.\n",
    "def obtain_image_paths(unprocessed_directory = UNPROCESSED_DIRECTORY):\n",
    "    data_directory = os.listdir(\"./\"+unprocessed_directory)\n",
    "    list_of_image_paths = []\n",
    "    for dirpath, dirname, filename in os.walk(\"./\"+unprocessed_directory):\n",
    "        if not dirname:\n",
    "            for dirpath2, dirname2, filename2 in os.walk(dirpath):\n",
    "                for filedir in filename2:\n",
    "                    list_of_image_paths.append(dirpath+\"/\"+filedir)\n",
    "    return list_of_image_paths"
   ]
  },
  {
   "cell_type": "code",
   "execution_count": 5,
   "id": "2dedbbf1",
   "metadata": {},
   "outputs": [],
   "source": [
    "# This function crops/compresses unprocessed images to 256x256 then saves them in a new directory.\n",
    "keywords = [\"biggan\", \"crn\", \"cyclegan\",\"deepfake\",\"gaugan\",\"imle\",\"progran\",\"san\",\"seeingdark\",\"stargan\", \"stylegan\",\n",
    "           \"stylegan2\",\"whichfaceisreal\"]\n",
    "X_MIN_NEEDED = 256\n",
    "Y_MIN_NEEDED = 256\n",
    "\n",
    "def process_images(list_of_image_paths, keyword_list = keywords, x_processed = X_MIN_NEEDED, y_processed = Y_MIN_NEEDED,\n",
    "                   processed_directory = PROCESSED_DIRECTORY, crop = CROP):\n",
    "    if not os.path.exists(\"./\"+processed_directory):\n",
    "        os.mkdir(processed_directory)\n",
    "    nReal = 0\n",
    "    nFake = 0\n",
    "    n = nReal + nFake\n",
    "    m = 0\n",
    "    keyword = \"\"\n",
    "    N = len(list_of_image_paths)\n",
    "    left, upper, right, lower = 0,0,0,0\n",
    "    for image_path in list_of_image_paths: \n",
    "        image = im_lib.open(image_path)\n",
    "        m += 1\n",
    "        x, y = image.size\n",
    "        if x >= x_processed and y >= y_processed:\n",
    "            for kwd in keywords:\n",
    "                if kwd in image_path:\n",
    "                    keyword = kwd\n",
    "                    break\n",
    "            if \"real\" in image_path:\n",
    "                nReal += 1\n",
    "                processed_path = \"./\"+processed_directory+\"/real_\"+str(nReal)+\".png\"\n",
    "            elif \"fake\" in image_path:\n",
    "                nFake += 1\n",
    "                processed_path = \"./\"+processed_directory+\"/fake_\"+str(nFake)+\"_\"+keyword+\".png\"\n",
    "            n = nReal + nFake\n",
    "            if not crop:\n",
    "                image = image.resize((x_processed,y_processed), im_lib.Resampling.LANCZOS)\n",
    "            elif crop: \n",
    "                left, upper = randint(0, x-x_processed), randint(0, y-y_processed)\n",
    "                right, lower = x_processed+left, y_processed+upper\n",
    "                image = image.crop((left,upper,right,lower))\n",
    "            image.save(processed_path, quality = 100)\n",
    "        print(str(m)+\"/\"+str(N), end=\"\\r\")"
   ]
  },
  {
   "cell_type": "code",
   "execution_count": 6,
   "id": "63b2f03a",
   "metadata": {},
   "outputs": [
    {
     "name": "stdout",
     "output_type": "stream",
     "text": [
      "90329/90329\r"
     ]
    }
   ],
   "source": [
    "#This here tests the above two functions.\n",
    "list_of_image_paths_test = obtain_image_paths(\"dataset_initial\") #dataset_initial is the name of the folder.\n",
    "process_images(list_of_image_paths_test, processed_directory = \"Test1_modular\", crop = True)"
   ]
  },
  {
   "cell_type": "code",
   "execution_count": null,
   "id": "8e85894b",
   "metadata": {},
   "outputs": [],
   "source": []
  },
  {
   "cell_type": "code",
   "execution_count": null,
   "id": "b38df168",
   "metadata": {},
   "outputs": [],
   "source": []
  }
 ],
 "metadata": {
  "kernelspec": {
   "display_name": "Python 3 (ipykernel)",
   "language": "python",
   "name": "python3"
  },
  "language_info": {
   "codemirror_mode": {
    "name": "ipython",
    "version": 3
   },
   "file_extension": ".py",
   "mimetype": "text/x-python",
   "name": "python",
   "nbconvert_exporter": "python",
   "pygments_lexer": "ipython3",
   "version": "3.10.13"
  }
 },
 "nbformat": 4,
 "nbformat_minor": 5
}
