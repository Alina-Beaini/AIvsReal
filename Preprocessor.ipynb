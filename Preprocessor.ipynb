{
 "cells": [
  {
   "cell_type": "code",
   "execution_count": 2,
   "id": "a1debd98",
   "metadata": {},
   "outputs": [],
   "source": [
    "#Create constants and import libraries\n",
    "UNPROCESSED_DIRECTORY = \"CNN_synth_testset\"\n",
    "PROCESSED_DIRECTORY = \"preprocessedImages\"\n",
    "import os\n",
    "import numpy as np\n",
    "from PIL import Image as imLib\n"
   ]
  },
  {
   "cell_type": "code",
   "execution_count": 3,
   "id": "553b8d7d",
   "metadata": {
    "scrolled": true
   },
   "outputs": [
    {
     "name": "stdout",
     "output_type": "stream",
     "text": [
      "['./CNN_synth_testset\\\\biggan\\\\0_real\\\\0--n01440764_5043.png', './CNN_synth_testset\\\\biggan\\\\0_real\\\\0--n01440764_8600.png', './CNN_synth_testset\\\\biggan\\\\0_real\\\\10--n01530575_10395.png', './CNN_synth_testset\\\\biggan\\\\0_real\\\\100--n01860187_3168.png', './CNN_synth_testset\\\\biggan\\\\0_real\\\\101--n01871265_1128.png']\n"
     ]
    }
   ],
   "source": [
    "# Find list of unprocessed images.\n",
    "dataDirectory = os.listdir(\"./\"+UNPROCESSED_DIRECTORY)\n",
    "listOfImagePaths = []\n",
    "for dirpath, dirname, filename in os.walk(\"./\"+UNPROCESSED_DIRECTORY):\n",
    "    if not dirname:\n",
    "        for dirpath2, dirname2, filename2 in os.walk(dirpath):\n",
    "            for filedir in filename2:\n",
    "                listOfImagePaths.append(dirpath+\"\\\\\"+filedir)\n",
    "N = len(listOfImagePaths)\n",
    "print(listOfImagePaths[0:5])"
   ]
  },
  {
   "cell_type": "code",
   "execution_count": 153,
   "id": "258b84b7",
   "metadata": {},
   "outputs": [
    {
     "name": "stdout",
     "output_type": "stream",
     "text": [
      "All dimensions are larger than or equal to 228x228\n"
     ]
    }
   ],
   "source": [
    "# I used this to check whether all images are larger than 228x228.\n",
    "# We no longer need this. \n",
    "# This was only a preliminary code to find the minimum dimensions an decide on the dimension we want.\n",
    "min_x = 228\n",
    "min_y = 228\n",
    "max_x = 0\n",
    "max_y = 0\n",
    "x = 0\n",
    "y = 0\n",
    "n = 1\n",
    "for imPath in listOfImagePaths:\n",
    "    x, y = imLib.open(imPath).size\n",
    "    if x < min_x:\n",
    "        min_x = x\n",
    "    if x > max_x:\n",
    "        max_x = x\n",
    "    if y < min_y:\n",
    "        min_y = y\n",
    "    if y > max_y:\n",
    "        max_y = y\n",
    "    print(str(n)+\"/\"+str(N), end=\"\\r\")\n",
    "    n+=1\n",
    "print(\".........\")\n",
    "print(\"...........\")\n",
    "    \n",
    "print(str(min_x)+\"x\"+str(min_y))"
   ]
  },
  {
   "cell_type": "code",
   "execution_count": 15,
   "id": "2ef11fed",
   "metadata": {},
   "outputs": [
    {
     "name": "stdout",
     "output_type": "stream",
     "text": [
      "90329/90329\n",
      "...................\n",
      ".............\n",
      "0.11923081181016064\n"
     ]
    }
   ],
   "source": [
    "# I used this to check the ratio of images with dimension at least 512x512. \n",
    "# It was small, so we reverted to 256x256, which is most of the images.\n",
    "# We no longer need this unless we decide to change our minimum-dimension.\n",
    "\n",
    "X_MIN_NEEDED = 256 #This was 512 in my first running instance.\n",
    "Y_MIN_NEEDED = 256 #This was 512 in my first running instance.\n",
    "\n",
    "n = 0\n",
    "m = 0\n",
    "for imPath in listOfImagePaths:\n",
    "    x, y = imLib.open(imPath).size\n",
    "    if x >= X_MIN_NEEDED and y >= Y_MIN_NEEDED:\n",
    "        m += 1\n",
    "    n += 1\n",
    "    print(str(n)+\"/\"+str(N), end=\"\\r\")\n",
    "print(\"\\n...................\\n.............\")\n",
    "print(m/N)"
   ]
  },
  {
   "cell_type": "code",
   "execution_count": null,
   "id": "2dedbbf1",
   "metadata": {},
   "outputs": [
    {
     "name": "stdout",
     "output_type": "stream",
     "text": [
      "10929/90329\r"
     ]
    }
   ],
   "source": [
    "# I used this this to compress the images to 256x256.\n",
    "# I then save the images according to whether they're real orfake.\n",
    "\n",
    "X_MIN_NEEDED = 256\n",
    "Y_MIN_NEEDED = 256\n",
    "\n",
    "keywords = [\"biggan\", \"crn\", \"cyclegan\",\"deepfake\",\"gaugan\",\"imle\",\"progran\",\"san\",\"seeingdark\",\"stargan\", \"stylegan\",\n",
    "           \"stylegan2\",\"whichfaceisreal\"]\n",
    "\n",
    "nReal = 0\n",
    "nFake = 0\n",
    "n = nReal + nFake\n",
    "m = 0\n",
    "keyword = \"\"\n",
    "for imPath in listOfImagePaths: \n",
    "    image = imLib.open(imPath)\n",
    "    m += 1\n",
    "    x, y = image.size\n",
    "    if x >= 256 and y >= 256:\n",
    "        for kwd in keywords:\n",
    "            if kwd in imPath:\n",
    "                keyword = kwd\n",
    "                break\n",
    "        if \"real\" in imPath:\n",
    "            nReal += 1\n",
    "            preprocessedPath = \"./\"+PROCESSED_DIRECTORY+\"/real_\"+str(nReal)+\"_\"+keyword+\".png\"\n",
    "        elif \"fake\" in imPath:\n",
    "            nFake += 1\n",
    "            preprocessedPath = \"./\"+PROCESSED_DIRECTORY+\"/fake_\"+str(nFake)+\"_\"+keyword+\".png\"\n",
    "        n = nReal + nFake\n",
    "        image = image.resize((256,256), imLib.Resampling.LANCZOS)\n",
    "        image.save(preprocessedPath, quality = 100)\n",
    "    print(str(m)+\"/\"+str(N), end=\"\\r\")"
   ]
  },
  {
   "cell_type": "code",
   "execution_count": null,
   "id": "63b2f03a",
   "metadata": {},
   "outputs": [],
   "source": []
  }
 ],
 "metadata": {
  "kernelspec": {
   "display_name": "Python 3 (ipykernel)",
   "language": "python",
   "name": "python3"
  },
  "language_info": {
   "codemirror_mode": {
    "name": "ipython",
    "version": 3
   },
   "file_extension": ".py",
   "mimetype": "text/x-python",
   "name": "python",
   "nbconvert_exporter": "python",
   "pygments_lexer": "ipython3",
   "version": "3.10.13"
  }
 },
 "nbformat": 4,
 "nbformat_minor": 5
}
