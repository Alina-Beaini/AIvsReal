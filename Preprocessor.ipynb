{
 "cells": [
  {
   "cell_type": "code",
   "execution_count": 3,
   "id": "b8c9eb6f",
   "metadata": {},
   "outputs": [],
   "source": [
    "#Create constants and import libraries\n",
    "UNPROCESSED_DIRECTORY = \"CNN_synth_testset\"\n",
    "PROCESSED_DIRECTORY = \"preprocessedImages\"\n",
    "CROP = False\n",
    "import os\n",
    "import numpy as np\n",
    "from PIL import Image as imLib\n",
    "from random import randint"
   ]
  },
  {
   "cell_type": "code",
   "execution_count": 4,
   "id": "553b8d7d",
   "metadata": {
    "scrolled": true
   },
   "outputs": [],
   "source": [
    "# Find list of unprocessed images.\n",
    "dataDirectory = os.listdir(\"./\"+UNPROCESSED_DIRECTORY)\n",
    "listOfImagePaths = []\n",
    "for dirpath, dirname, filename in os.walk(\"./\"+UNPROCESSED_DIRECTORY):\n",
    "    if not dirname:\n",
    "        for dirpath2, dirname2, filename2 in os.walk(dirpath):\n",
    "            for filedir in filename2:\n",
    "                listOfImagePaths.append(dirpath+\"\\\\\"+filedir)\n",
    "N = len(listOfImagePaths)"
   ]
  },
  {
   "cell_type": "code",
   "execution_count": null,
   "id": "258b84b7",
   "metadata": {},
   "outputs": [],
   "source": [
    "# I used this to check whether all images are larger than 228x228.\n",
    "# We no longer need this. \n",
    "# This was only a preliminary code to find the minimum dimensions an decide on the dimension we want.\n",
    "min_x = 228\n",
    "min_y = 228\n",
    "max_x = 0\n",
    "max_y = 0\n",
    "x = 0\n",
    "y = 0\n",
    "n = 1\n",
    "for imPath in listOfImagePaths:\n",
    "    x, y = imLib.open(imPath).size\n",
    "    if x < min_x:\n",
    "        min_x = x\n",
    "    if x > max_x:\n",
    "        max_x = x\n",
    "    if y < min_y:\n",
    "        min_y = y\n",
    "    if y > max_y:\n",
    "        max_y = y\n",
    "    print(str(n)+\"/\"+str(N), end=\"\\r\")\n",
    "    n+=1\n",
    "print(\".........\")\n",
    "print(\"...........\")\n",
    "    \n",
    "print(str(min_x)+\"x\"+str(min_y))"
   ]
  },
  {
   "cell_type": "code",
   "execution_count": 3,
   "id": "2ef11fed",
   "metadata": {},
   "outputs": [
    {
     "name": "stdout",
     "output_type": "stream",
     "text": [
      "2493/90329\r"
     ]
    },
    {
     "ename": "KeyboardInterrupt",
     "evalue": "",
     "output_type": "error",
     "traceback": [
      "\u001b[1;31m---------------------------------------------------------------------------\u001b[0m",
      "\u001b[1;31mKeyboardInterrupt\u001b[0m                         Traceback (most recent call last)",
      "Cell \u001b[1;32mIn[3], line 11\u001b[0m\n\u001b[0;32m      9\u001b[0m m \u001b[38;5;241m=\u001b[39m \u001b[38;5;241m0\u001b[39m\n\u001b[0;32m     10\u001b[0m \u001b[38;5;28;01mfor\u001b[39;00m imPath \u001b[38;5;129;01min\u001b[39;00m listOfImagePaths:\n\u001b[1;32m---> 11\u001b[0m     x, y \u001b[38;5;241m=\u001b[39m \u001b[43mimLib\u001b[49m\u001b[38;5;241;43m.\u001b[39;49m\u001b[43mopen\u001b[49m\u001b[43m(\u001b[49m\u001b[43mimPath\u001b[49m\u001b[43m)\u001b[49m\u001b[38;5;241m.\u001b[39msize\n\u001b[0;32m     12\u001b[0m     \u001b[38;5;28;01mif\u001b[39;00m x \u001b[38;5;241m>\u001b[39m\u001b[38;5;241m=\u001b[39m X_MIN_NEEDED \u001b[38;5;129;01mand\u001b[39;00m y \u001b[38;5;241m>\u001b[39m\u001b[38;5;241m=\u001b[39m Y_MIN_NEEDED:\n\u001b[0;32m     13\u001b[0m         m \u001b[38;5;241m+\u001b[39m\u001b[38;5;241m=\u001b[39m \u001b[38;5;241m1\u001b[39m\n",
      "File \u001b[1;32m~\\anaconda3\\envs\\tensorflow-gpu\\lib\\site-packages\\PIL\\Image.py:3218\u001b[0m, in \u001b[0;36mopen\u001b[1;34m(fp, mode, formats)\u001b[0m\n\u001b[0;32m   3215\u001b[0m     filename \u001b[38;5;241m=\u001b[39m fp\n\u001b[0;32m   3217\u001b[0m \u001b[38;5;28;01mif\u001b[39;00m filename:\n\u001b[1;32m-> 3218\u001b[0m     fp \u001b[38;5;241m=\u001b[39m \u001b[43mbuiltins\u001b[49m\u001b[38;5;241;43m.\u001b[39;49m\u001b[43mopen\u001b[49m\u001b[43m(\u001b[49m\u001b[43mfilename\u001b[49m\u001b[43m,\u001b[49m\u001b[43m \u001b[49m\u001b[38;5;124;43m\"\u001b[39;49m\u001b[38;5;124;43mrb\u001b[39;49m\u001b[38;5;124;43m\"\u001b[39;49m\u001b[43m)\u001b[49m\n\u001b[0;32m   3219\u001b[0m     exclusive_fp \u001b[38;5;241m=\u001b[39m \u001b[38;5;28;01mTrue\u001b[39;00m\n\u001b[0;32m   3221\u001b[0m \u001b[38;5;28;01mtry\u001b[39;00m:\n",
      "\u001b[1;31mKeyboardInterrupt\u001b[0m: "
     ]
    }
   ],
   "source": [
    "# I used this to check the ratio of images with dimension at least 512x512. \n",
    "# It was small, so we reverted to 256x256, which is most of the images.\n",
    "# We no longer need this unless we decide to change our minimum-dimension.\n",
    "\n",
    "X_MIN_NEEDED = 256 #This was 512 in my first running instance.\n",
    "Y_MIN_NEEDED = 256 #This was 512 in my first running instance.\n",
    "\n",
    "n = 0\n",
    "m = 0\n",
    "for imPath in listOfImagePaths:\n",
    "    x, y = imLib.open(imPath).size\n",
    "    if x >= X_MIN_NEEDED and y >= Y_MIN_NEEDED:\n",
    "        m += 1\n",
    "    n += 1\n",
    "    print(str(n)+\"/\"+str(N), end=\"\\r\")\n",
    "print(\"\\n...................\\n.............\")\n",
    "print(m/N)"
   ]
  },
  {
   "cell_type": "code",
   "execution_count": null,
   "id": "2dedbbf1",
   "metadata": {},
   "outputs": [
    {
     "name": "stdout",
     "output_type": "stream",
     "text": [
      "909/90329\r"
     ]
    }
   ],
   "source": [
    "# I used this this to compress the images to 256x256.\n",
    "# I then save the images according to whether they're real orfake.\n",
    "# I also assign the model in case it's fake.\n",
    "\n",
    "X_MIN_NEEDED = 256\n",
    "Y_MIN_NEEDED = 256\n",
    "keywords = [\"biggan\", \"crn\", \"cyclegan\",\"deepfake\",\"gaugan\",\"imle\",\"progran\",\"san\",\"seeingdark\",\"stargan\", \"stylegan\",\n",
    "           \"stylegan2\",\"whichfaceisreal\"]\n",
    "\n",
    "nReal = 0\n",
    "nFake = 0\n",
    "n = nReal + nFake\n",
    "m = 0\n",
    "keyword = \"\"\n",
    "left, upper, right, lower = 0,0,0,0\n",
    "for imPath in listOfImagePaths: \n",
    "    image = imLib.open(imPath)\n",
    "    m += 1\n",
    "    x, y = image.size\n",
    "    if x >= 256 and y >= 256:\n",
    "        for kwd in keywords:\n",
    "            if kwd in imPath:\n",
    "                keyword = kwd\n",
    "                break\n",
    "        if \"real\" in imPath:\n",
    "            nReal += 1\n",
    "            preprocessedPath = \"./\"+PROCESSED_DIRECTORY+\"/real_\"+str(nReal)+\".png\"\n",
    "        elif \"fake\" in imPath:\n",
    "            nFake += 1\n",
    "            preprocessedPath = \"./\"+PROCESSED_DIRECTORY+\"/fake_\"+str(nFake)+\"_\"+keyword+\".png\"\n",
    "        n = nReal + nFake\n",
    "        if not CROP:\n",
    "            image = image.resize((X_MIN_NEEDED,Y_MIN_NEEDED), imLib.Resampling.LANCZOS)\n",
    "        elif CROP: \n",
    "            left, upper = randint(0, x-X_MIN_NEEDED), randint(0, y-Y_MIN_NEEDED)\n",
    "            right, lower = X_MIN_NEEDED+left, Y_MIN_NEEDED+upper\n",
    "            image = image.crop((left,upper,right,lower))\n",
    "        image.save(preprocessedPath, quality = 100)\n",
    "    print(str(m)+\"/\"+str(N), end=\"\\r\")"
   ]
  },
  {
   "cell_type": "code",
   "execution_count": null,
   "id": "63b2f03a",
   "metadata": {},
   "outputs": [],
   "source": []
  }
 ],
 "metadata": {
  "kernelspec": {
   "display_name": "Python 3 (ipykernel)",
   "language": "python",
   "name": "python3"
  },
  "language_info": {
   "codemirror_mode": {
    "name": "ipython",
    "version": 3
   },
   "file_extension": ".py",
   "mimetype": "text/x-python",
   "name": "python",
   "nbconvert_exporter": "python",
   "pygments_lexer": "ipython3",
   "version": "3.10.13"
  }
 },
 "nbformat": 4,
 "nbformat_minor": 5
}
