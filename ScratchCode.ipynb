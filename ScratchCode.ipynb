{
 "cells": [
  {
   "cell_type": "code",
   "execution_count": 48,
   "id": "b8883e62",
   "metadata": {},
   "outputs": [],
   "source": [
    "import os\n",
    "dataDirectory = os.listdir(\"./CNN_synth_testset\")\n",
    "listOfImagePaths = []\n",
    "for dirpath, dirname, filename in os.walk(\"./CNN_synth_testset\"):\n",
    "    if not dirname:\n",
    "        for dirpath2, dirname2, filename2 in os.walk(dirpath):\n",
    "            for filedir in filename2:\n",
    "                listOfImagePaths.append(dirpath+\"\\\\\"+filedir)"
   ]
  },
  {
   "cell_type": "code",
   "execution_count": 49,
   "id": "73033402",
   "metadata": {},
   "outputs": [],
   "source": [
    "#from PIL import Image as imLib\n",
    "#image = imLib.open(listOfImagePaths[0])\n",
    "#image = image.resize((512,512), imLib.LANCZOS)\n",
    "#image.save(\"./preprocessedImages/a.png\")"
   ]
  },
  {
   "cell_type": "code",
   "execution_count": 8,
   "id": "f34853af",
   "metadata": {},
   "outputs": [],
   "source": [
    "UNPROCESSED_DIRECTORY = \"unprocessedData\"\n",
    "PROCESSED_DIRECTORY = \"preprocessedImages\"\n",
    "\n",
    "\n",
    "import os\n",
    "import gdown\n",
    "import zipfile\n",
    "\n",
    "if not os.path.exists(\"./\"+PROCESSED_DIRECTORY):\n",
    "    os.mkdir(PROCESSED_DIRECTORY)\n",
    "    os.mkdir(PROCESSED_DIRECTORY+\"/REAL\")\n",
    "    os.mkdir(PROCESSED_DIRECTORY+\"/FAKE\")\n"
   ]
  },
  {
   "cell_type": "code",
   "execution_count": null,
   "id": "f18a12e6",
   "metadata": {},
   "outputs": [],
   "source": []
  }
 ],
 "metadata": {
  "kernelspec": {
   "display_name": "Python 3 (ipykernel)",
   "language": "python",
   "name": "python3"
  },
  "language_info": {
   "codemirror_mode": {
    "name": "ipython",
    "version": 3
   },
   "file_extension": ".py",
   "mimetype": "text/x-python",
   "name": "python",
   "nbconvert_exporter": "python",
   "pygments_lexer": "ipython3",
   "version": "3.10.13"
  }
 },
 "nbformat": 4,
 "nbformat_minor": 5
}
