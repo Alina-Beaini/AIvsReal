{
 "cells": [
  {
   "cell_type": "code",
   "execution_count": 1,
   "id": "dfc0f776",
   "metadata": {},
   "outputs": [],
   "source": [
    "X_DIM = 256\n",
    "Y_DIM = 256\n",
    "UNPROCESSED_DIRECTORY = \"CNN_synth_testset\"\n",
    "PROCESSED_DIRECTORY = \"processed_images\"\n",
    "CROP = False\n",
    "import os\n",
    "import numpy as np\n",
    "from PIL import Image as im_lib\n",
    "from PIL import ImageFilter\n",
    "from keras.layers import Layer\n",
    "from keras import models\n",
    "from keras import layers\n",
    "from keras.utils import Sequence\n",
    "from keras.metrics import Metric\n",
    "import keras.backend as backend\n",
    "import tensorflow as tf\n",
    "from math import ceil\n",
    "from sklearn.model_selection import train_test_split\n",
    "import time"
   ]
  },
  {
   "cell_type": "code",
   "execution_count": 2,
   "id": "816444b8",
   "metadata": {},
   "outputs": [],
   "source": [
    "def obtain_image_paths(unprocessed_directory = UNPROCESSED_DIRECTORY):\n",
    "    data_directory = os.listdir(\"./\"+unprocessed_directory)\n",
    "    list_of_image_paths = []\n",
    "    for dirpath, dirname, filename in os.walk(\"./\"+unprocessed_directory):\n",
    "        if not dirname:\n",
    "            for dirpath2, dirname2, filename2 in os.walk(dirpath):\n",
    "                for filedir in filename2:\n",
    "                    list_of_image_paths.append(dirpath+\"/\"+filedir)\n",
    "    return list_of_image_paths"
   ]
  },
  {
   "cell_type": "code",
   "execution_count": 3,
   "id": "728fdc6f",
   "metadata": {},
   "outputs": [],
   "source": [
    "#Create constants and import libraries\n",
    "def categorical_output(image_path):\n",
    "    keywords = [\"biggan\", \"crn\", \"cyclegan\",\"deepfake\",\"gaugan\",\"imle\",\"progan\",\"san\",\"seeingdark\",\"stargan\",\"stylegan2\", \"stylegan\",\n",
    "           \"whichfaceisreal\"]\n",
    "    category = [0] * (len(keywords) + 1)\n",
    "    for kwd_index in range(len(keywords)):\n",
    "        kwd = keywords[kwd_index]\n",
    "        if kwd in image_path:\n",
    "            category[kwd_index] = 1\n",
    "            return category\n",
    "    category[-1] = 1\n",
    "    return category\n",
    "class ImageBatchSequence(Sequence):\n",
    "    def __init__(self, x_set, batch_size, x_dim = X_DIM, y_dim = Y_DIM, filter_function = None, \n",
    "                 output_function = None, normalizing_factor = 255):\n",
    "        self.x = x_set\n",
    "        if output_function is None:\n",
    "            y_set = [(1 if \"fake\" in image_path else 0) for image_path in x_set] #This makes the output to be 1 (AI-generated) if FAKE is in pathname.\n",
    "            #                                                  # Otherwise, it makes the output 0 (not AI-generated)\n",
    "        else:\n",
    "            y_set = [output_function(image_path) for image_path in x_set]\n",
    "        self.y = y_set\n",
    "        self.batch_size = batch_size\n",
    "        self.x_dim = x_dim\n",
    "        self.y_dim = y_dim\n",
    "        self.filter_function = filter_function\n",
    "        self.normalizing_factor = normalizing_factor\n",
    "    def __len__(self):\n",
    "        return ceil(len(self.x)/self.batch_size)\n",
    "    def __getitem__(self, index):\n",
    "        low = index * self.batch_size\n",
    "        high = min(low+self.batch_size, len(self.x))\n",
    "        batch_x = self.x[low : high]\n",
    "        batch_y = self.y[low : high]\n",
    "        image_x_batch = []\n",
    "        for image_path in batch_x:\n",
    "            image = im_lib.open(image_path)\n",
    "            if self.filter_function is not None:\n",
    "                image = self.filter_function(image)\n",
    "            image_array = np.asarray(image).reshape(self.x_dim,self.y_dim,3)/self.normalizing_factor\n",
    "            image_x_batch.append(image_array)\n",
    "        return np.array(image_x_batch), np.array(batch_y)"
   ]
  },
  {
   "cell_type": "code",
   "execution_count": 4,
   "id": "de081573",
   "metadata": {},
   "outputs": [],
   "source": [
    "X = obtain_image_paths(\"Test1_modular\")\n",
    "y = [categorical_output(x) for x in X]"
   ]
  },
  {
   "cell_type": "code",
   "execution_count": 5,
   "id": "42776dc8",
   "metadata": {},
   "outputs": [],
   "source": [
    "X_train, X_test, y_train, y_test = train_test_split(X, y,\n",
    "                                                       shuffle = True,\n",
    "                                                       random_state = 440,\n",
    "                                                       test_size = .2, stratify = y)"
   ]
  },
  {
   "cell_type": "code",
   "execution_count": 6,
   "id": "aed087db",
   "metadata": {},
   "outputs": [
    {
     "name": "stdout",
     "output_type": "stream",
     "text": [
      "biggan:1600\n",
      "crn:5106\n",
      "cyclegan:1057\n",
      "deepfake:4324\n",
      "gaugan:4000\n",
      "imle:5105\n",
      "progan:3200\n",
      "san:174\n",
      "seeingdark:144\n",
      "stargan:1599\n",
      "stylegan:4793\n",
      "stylegan2:6390\n",
      "whichfaceisreal:800\n",
      "real : 33960\n",
      ";;;;;;;;;;;;;;;;;;;;;;;;;;;;;;;;;\n",
      "biggan:400\n",
      "crn:1276\n",
      "cyclegan:264\n",
      "deepfake:1081\n",
      "gaugan:1000\n",
      "imle:1277\n",
      "progan:800\n",
      "san:43\n",
      "seeingdark:36\n",
      "stargan:400\n",
      "stylegan:1198\n",
      "stylegan2:1598\n",
      "whichfaceisreal:200\n",
      "real : 8490\n"
     ]
    }
   ],
   "source": [
    "keywords = [\"biggan\", \"crn\", \"cyclegan\",\"deepfake\",\"gaugan\",\"imle\",\"progan\",\"san\",\"seeingdark\",\"stargan\", \"stylegan\",\n",
    "           \"stylegan2\",\"whichfaceisreal\"]\n",
    "for kwd in keywords:\n",
    "    print(kwd+\":\"+str(y_train.count(categorical_output(kwd))))\n",
    "print(\"real : \"+str(y_train.count(categorical_output(\"fuck\"))))\n",
    "print(\";;;;;;;;;;;;;;;;;;;;;;;;;;;;;;;;;\")\n",
    "for kwd in keywords:\n",
    "    print(kwd+\":\"+str(y_test.count(categorical_output(kwd))))\n",
    "print(\"real : \"+str(y_test.count(categorical_output(\"fuck\"))))"
   ]
  },
  {
   "cell_type": "code",
   "execution_count": 7,
   "id": "633968b5",
   "metadata": {},
   "outputs": [],
   "source": [
    "X_train_train,X_val,y_train_train,y_val = train_test_split(X_train, y_train,\n",
    "                                                          test_size=.2,\n",
    "                                                          shuffle=True,\n",
    "                                                          stratify=y_train,\n",
    "                                                          random_state=440)"
   ]
  },
  {
   "cell_type": "code",
   "execution_count": 8,
   "id": "b1827e5b",
   "metadata": {},
   "outputs": [
    {
     "name": "stdout",
     "output_type": "stream",
     "text": [
      "Model: \"sequential\"\n",
      "_________________________________________________________________\n",
      " Layer (type)                Output Shape              Param #   \n",
      "=================================================================\n",
      " conv2d (Conv2D)             (None, 254, 254, 32)      896       \n",
      "                                                                 \n",
      " max_pooling2d (MaxPooling2D  (None, 127, 127, 32)     0         \n",
      " )                                                               \n",
      "                                                                 \n",
      " conv2d_1 (Conv2D)           (None, 125, 125, 64)      18496     \n",
      "                                                                 \n",
      " max_pooling2d_1 (MaxPooling  (None, 62, 62, 64)       0         \n",
      " 2D)                                                             \n",
      "                                                                 \n",
      " flatten (Flatten)           (None, 246016)            0         \n",
      "                                                                 \n",
      " dense (Dense)               (None, 64)                15745088  \n",
      "                                                                 \n",
      " dense_1 (Dense)             (None, 14)                910       \n",
      "                                                                 \n",
      "=================================================================\n",
      "Total params: 15,765,390\n",
      "Trainable params: 15,765,390\n",
      "Non-trainable params: 0\n",
      "_________________________________________________________________\n"
     ]
    }
   ],
   "source": [
    "model = models.Sequential()\n",
    "model.add(layers.Conv2D( 32, (3,3), activation='relu', input_shape=(256,256,3,)))\n",
    "model.add( layers.MaxPooling2D( (2,2), strides = 2 ) )\n",
    "model.add( layers.Conv2D(64, (3,3), activation='relu'))\n",
    "model.add( layers.MaxPooling2D( (2,2), strides=2) )\n",
    "model.add( layers.Flatten() )\n",
    "model.add(layers.Dense(64, activation='relu'))\n",
    "model.add(layers.Dense(14, activation='softmax'))\n",
    "model.summary()"
   ]
  },
  {
   "cell_type": "code",
   "execution_count": 9,
   "id": "352c06a9",
   "metadata": {},
   "outputs": [],
   "source": [
    "class MulticlassPrecisionMetric(Metric):\n",
    "    def __init__(self, name = \"mp\", category_tested = 0):\n",
    "        super(MulticlassPrecisionMetric,self).__init__(name = name)\n",
    "        self.category_tested = category_tested\n",
    "        self.multi_true_positives = self.add_weight(name = 'tp' + str(self.category_tested), initializer = 'zeros')\n",
    "        self.multi_tf_positives = self.add_weight(name = 'tfp' + str(self.category_tested), initializer = 'zeros')\n",
    "        self.mp = self.add_weight(name = 'mp' + str(self.category_tested), initializer = 'zeros')\n",
    "    def update_state(self, y_true, y_pred, sample_weight = None):\n",
    "        y_true = tf.argmax(y_true, axis = -1)\n",
    "        y_pred = tf.argmax(y_pred, axis = -1)\n",
    "        tp = tf.reduce_sum(\\\n",
    "                         tf.cast(tf.equal(y_true,self.category_tested),tf.float32)\\\n",
    "                         *tf.cast(tf.equal(y_pred,self.category_tested),tf.float32))\n",
    "        self.multi_true_positives.assign_add(tp)\n",
    "        self.multi_tf_positives.assign_add(\\\n",
    "                                           tf.reduce_sum(\\\n",
    "                                                       tf.cast(tf.equal(y_pred,self.category_tested),tf.float32)))\n",
    "        self.mp.assign(self.multi_true_positives/(self.multi_tf_positives+backend.epsilon()))\n",
    "    def result(self):\n",
    "        return self.mp"
   ]
  },
  {
   "cell_type": "code",
   "execution_count": 10,
   "id": "2fdf2252",
   "metadata": {},
   "outputs": [],
   "source": [
    "class MulticlassRecallMetric(Metric):\n",
    "    def __init__(self, name = \"mp\", category_tested = 0):\n",
    "        super(MulticlassRecallMetric,self).__init__(name = name)\n",
    "        self.category_tested = category_tested\n",
    "        self.multi_true_positives = self.add_weight(name = 'tp' + str(self.category_tested), initializer = 'zeros')\n",
    "        self.multi_predic = self.add_weight(name = 'tpr' + str(self.category_tested), initializer = 'zeros')\n",
    "        self.mr = self.add_weight(name = 'mr' + str(self.category_tested), initializer = 'zeros')\n",
    "    def update_state(self, y_true, y_pred,sample_weight = None):\n",
    "        y_true = tf.argmax(y_true, axis = -1)\n",
    "        y_pred = tf.argmax(y_pred, axis = -1)\n",
    "        tp = tf.reduce_sum(\\\n",
    "                         tf.cast(tf.equal(y_true,self.category_tested),tf.float32)\\\n",
    "                         *tf.cast(tf.equal(y_pred,self.category_tested),tf.float32))\n",
    "        self.multi_true_positives.assign_add(tp)\n",
    "        self.multi_predic.assign_add(\\\n",
    "                                           tf.reduce_sum(\\\n",
    "                                                       tf.cast(tf.equal(y_true,self.category_tested),tf.float32)))\n",
    "        self.mr.assign(self.multi_true_positives/(self.multi_predic+backend.epsilon()))\n",
    "    def result(self):\n",
    "        return self.mr"
   ]
  },
  {
   "cell_type": "code",
   "execution_count": 11,
   "id": "e44548fd",
   "metadata": {},
   "outputs": [],
   "source": [
    "keywords = [\"biggan\", \"crn\", \"cyclegan\",\"deepfake\",\"gaugan\",\"imle\",\"progan\",\"san\",\"seeingdark\",\"stargan\",\"stylegan2\",\n",
    "            \"stylegan\", \"whichfaceisreal\"]\n",
    "METRICS = []\n",
    "for kwd_index in range(len(keywords)):\n",
    "    precision_metric = MulticlassPrecisionMetric(name = \"precision_\"+keywords[kwd_index], \n",
    "                                                 category_tested = kwd_index)\n",
    "    recall_metric = MulticlassRecallMetric(name = \"recall_\"+keywords[kwd_index], \n",
    "                                                 category_tested = kwd_index)\n",
    "    METRICS.append(precision_metric)\n",
    "    METRICS.append(recall_metric)\n",
    "precision_metric = MulticlassPrecisionMetric(name = \"precision_real\", category_tested = len(keywords))\n",
    "recall_metric = MulticlassRecallMetric(name = \"recall_real\", category_tested = len(keywords))\n",
    "METRICS.append(precision_metric)\n",
    "METRICS.append(recall_metric)\n",
    "model.compile(optimizer='adam',\n",
    "              loss='categorical_crossentropy',\n",
    "              metrics = [METRICS])"
   ]
  },
  {
   "cell_type": "code",
   "execution_count": 12,
   "id": "7c9bfd28",
   "metadata": {},
   "outputs": [],
   "source": [
    "def HPF_filter(image):\n",
    "    return im_lib.fromarray(np.asarray(image)-np.asarray(image.filter(ImageFilter.GaussianBlur)))"
   ]
  },
  {
   "cell_type": "code",
   "execution_count": 13,
   "id": "8c2e98e4",
   "metadata": {},
   "outputs": [],
   "source": [
    "train_sequence = ImageBatchSequence(X_train_train, batch_size = 32, filter_function = HPF_filter, \n",
    "                                    output_function = categorical_output)\n",
    "validation_sequence = ImageBatchSequence(X_val, batch_size = 32, filter_function = HPF_filter, \n",
    "                                    output_function = categorical_output)"
   ]
  },
  {
   "cell_type": "code",
   "execution_count": null,
   "id": "0aa0f0e9",
   "metadata": {
    "scrolled": false
   },
   "outputs": [
    {
     "name": "stdout",
     "output_type": "stream",
     "text": [
      "Epoch 1/10\n",
      "1807/1807 [==============================] - 421s 229ms/step - loss: 0.8426 - precision_biggan: 0.2388 - recall_biggan: 0.0250 - precision_crn: 0.9753 - recall_crn: 0.8906 - precision_cyclegan: 0.3772 - recall_cyclegan: 0.0508 - precision_deepfake: 0.9100 - recall_deepfake: 0.9295 - precision_gaugan: 0.5054 - recall_gaugan: 0.3097 - precision_imle: 0.9312 - recall_imle: 0.8847 - precision_progan: 0.7083 - recall_progan: 0.2570 - precision_san: 0.1667 - recall_san: 0.0360 - precision_seeingdark: 0.7143 - recall_seeingdark: 0.3043 - precision_stargan: 0.8810 - recall_stargan: 0.8163 - precision_stylegan2: 0.6076 - recall_stylegan2: 0.5016 - precision_stylegan: 0.7317 - recall_stylegan: 0.5263 - precision_whichfaceisreal: 0.4951 - recall_whichfaceisreal: 0.0797 - precision_real: 0.7154 - recall_real: 0.9262 - val_loss: 0.4400 - val_precision_biggan: 0.5333 - val_recall_biggan: 0.1250 - val_precision_crn: 0.9961 - val_recall_crn: 0.9980 - val_precision_cyclegan: 0.6408 - val_recall_cyclegan: 0.3128 - val_precision_deepfake: 0.9647 - val_recall_deepfake: 0.9780 - val_precision_gaugan: 0.7816 - val_recall_gaugan: 0.6263 - val_precision_imle: 0.9883 - val_recall_imle: 0.9961 - val_precision_progan: 0.8189 - val_recall_progan: 0.5016 - val_precision_san: 0.7500 - val_recall_san: 0.0857 - val_precision_seeingdark: 1.0000 - val_recall_seeingdark: 0.6207 - val_precision_stargan: 0.9692 - val_recall_stargan: 0.9844 - val_precision_stylegan2: 0.6428 - val_recall_stylegan2: 0.9194 - val_precision_stylegan: 0.8189 - val_recall_stylegan: 0.7310 - val_precision_whichfaceisreal: 0.8116 - val_recall_whichfaceisreal: 0.3500 - val_precision_real: 0.8667 - val_recall_real: 0.9202\n",
      "Epoch 2/10\n",
      "1807/1807 [==============================] - 406s 224ms/step - loss: 0.2818 - precision_biggan: 0.7475 - recall_biggan: 0.4164 - precision_crn: 0.9951 - recall_crn: 0.9946 - precision_cyclegan: 0.6914 - recall_cyclegan: 0.4291 - precision_deepfake: 0.9864 - recall_deepfake: 0.9864 - precision_gaugan: 0.8654 - recall_gaugan: 0.8516 - precision_imle: 0.9919 - recall_imle: 0.9941 - precision_progan: 0.8460 - recall_progan: 0.6672 - precision_san: 0.8716 - recall_san: 0.6835 - precision_seeingdark: 0.8962 - recall_seeingdark: 0.8261 - precision_stargan: 0.9753 - recall_stargan: 0.9867 - precision_stylegan2: 0.8495 - recall_stylegan2: 0.8691 - precision_stylegan: 0.8943 - recall_stylegan: 0.8451 - precision_whichfaceisreal: 0.7063 - recall_whichfaceisreal: 0.5750 - precision_real: 0.8985 - recall_real: 0.9550 - val_loss: 0.3653 - val_precision_biggan: 0.3333 - val_recall_biggan: 0.5594 - val_precision_crn: 0.9922 - val_recall_crn: 0.9990 - val_precision_cyclegan: 0.6040 - val_recall_cyclegan: 0.5782 - val_precision_deepfake: 0.9845 - val_recall_deepfake: 0.9572 - val_precision_gaugan: 0.9785 - val_recall_gaugan: 0.7950 - val_precision_imle: 0.9751 - val_recall_imle: 0.9961 - val_precision_progan: 0.8349 - val_recall_progan: 0.5453 - val_precision_san: 0.7143 - val_recall_san: 0.4286 - val_precision_seeingdark: 0.7143 - val_recall_seeingdark: 0.6897 - val_precision_stargan: 0.9349 - val_recall_stargan: 0.9875 - val_precision_stylegan2: 0.7550 - val_recall_stylegan2: 0.9116 - val_precision_stylegan: 0.7950 - val_recall_stylegan: 0.7925 - val_precision_whichfaceisreal: 0.9091 - val_recall_whichfaceisreal: 0.4375 - val_precision_real: 0.9161 - val_recall_real: 0.9130\n",
      "Epoch 3/10\n",
      "1807/1807 [==============================] - 409s 226ms/step - loss: 0.0891 - precision_biggan: 0.9420 - recall_biggan: 0.8633 - precision_crn: 0.9973 - recall_crn: 0.9976 - precision_cyclegan: 0.9101 - recall_cyclegan: 0.7896 - precision_deepfake: 0.9896 - recall_deepfake: 0.9928 - precision_gaugan: 0.9734 - recall_gaugan: 0.9731 - precision_imle: 0.9966 - recall_imle: 0.9978 - precision_progan: 0.9609 - recall_progan: 0.9211 - precision_san: 0.9549 - recall_san: 0.9137 - precision_seeingdark: 0.8860 - recall_seeingdark: 0.8783 - precision_stargan: 0.9938 - recall_stargan: 0.9961 - precision_stylegan2: 0.9528 - recall_stylegan2: 0.9550 - precision_stylegan: 0.9745 - recall_stylegan: 0.9669 - precision_whichfaceisreal: 0.8949 - recall_whichfaceisreal: 0.8516 - precision_real: 0.9698 - recall_real: 0.9827 - val_loss: 0.4146 - val_precision_biggan: 0.4684 - val_recall_biggan: 0.3938 - val_precision_crn: 0.9990 - val_recall_crn: 0.9931 - val_precision_cyclegan: 0.6269 - val_recall_cyclegan: 0.5735 - val_precision_deepfake: 0.9744 - val_recall_deepfake: 0.9688 - val_precision_gaugan: 0.9407 - val_recall_gaugan: 0.8325 - val_precision_imle: 0.9951 - val_recall_imle: 0.9922 - val_precision_progan: 0.7944 - val_recall_progan: 0.5312 - val_precision_san: 0.6250 - val_recall_san: 0.2857 - val_precision_seeingdark: 0.9091 - val_recall_seeingdark: 0.6897 - val_precision_stargan: 0.9466 - val_recall_stargan: 0.9969 - val_precision_stylegan2: 0.8332 - val_recall_stylegan2: 0.8208 - val_precision_stylegan: 0.7174 - val_recall_stylegan: 0.8498 - val_precision_whichfaceisreal: 0.8452 - val_recall_whichfaceisreal: 0.4437 - val_precision_real: 0.8957 - val_recall_real: 0.9371\n",
      "Epoch 4/10\n",
      "1807/1807 [==============================] - 400s 222ms/step - loss: 0.0383 - precision_biggan: 0.9818 - recall_biggan: 0.9695 - precision_crn: 0.9980 - recall_crn: 0.9988 - precision_cyclegan: 0.9714 - recall_cyclegan: 0.9645 - precision_deepfake: 0.9931 - recall_deepfake: 0.9928 - precision_gaugan: 0.9875 - recall_gaugan: 0.9887 - precision_imle: 0.9980 - recall_imle: 0.9976 - precision_progan: 0.9811 - recall_progan: 0.9734 - precision_san: 0.9778 - recall_san: 0.9496 - precision_seeingdark: 0.9640 - recall_seeingdark: 0.9304 - precision_stargan: 0.9961 - recall_stargan: 0.9945 - precision_stylegan2: 0.9803 - recall_stylegan2: 0.9822 - precision_stylegan: 0.9887 - recall_stylegan: 0.9857 - precision_whichfaceisreal: 0.9693 - recall_whichfaceisreal: 0.9375 - precision_real: 0.9892 - recall_real: 0.9918 - val_loss: 0.5167 - val_precision_biggan: 0.3993 - val_recall_biggan: 0.3531 - val_precision_crn: 0.9971 - val_recall_crn: 0.9971 - val_precision_cyclegan: 0.5941 - val_recall_cyclegan: 0.5687 - val_precision_deepfake: 0.9396 - val_recall_deepfake: 0.9884 - val_precision_gaugan: 0.8970 - val_recall_gaugan: 0.8163 - val_precision_imle: 0.9631 - val_recall_imle: 0.9971 - val_precision_progan: 0.5694 - val_recall_progan: 0.6156 - val_precision_san: 0.3864 - val_recall_san: 0.4857 - val_precision_seeingdark: 0.6667 - val_recall_seeingdark: 0.6207 - val_precision_stargan: 0.8544 - val_recall_stargan: 0.9906 - val_precision_stylegan2: 0.7194 - val_recall_stylegan2: 0.8404 - val_precision_stylegan: 0.7188 - val_recall_stylegan: 0.7758 - val_precision_whichfaceisreal: 0.7865 - val_recall_whichfaceisreal: 0.4375 - val_precision_real: 0.9232 - val_recall_real: 0.8834\n",
      "Epoch 5/10\n",
      "1807/1807 [==============================] - 426s 236ms/step - loss: 0.0279 - precision_biggan: 0.9844 - recall_biggan: 0.9828 - precision_crn: 0.9983 - recall_crn: 0.9985 - precision_cyclegan: 0.9644 - recall_cyclegan: 0.9610 - precision_deepfake: 0.9977 - recall_deepfake: 0.9971 - precision_gaugan: 0.9894 - recall_gaugan: 0.9875 - precision_imle: 0.9958 - recall_imle: 0.9963 - precision_progan: 0.9844 - recall_progan: 0.9863 - precision_san: 0.9712 - recall_san: 0.9712 - precision_seeingdark: 0.9402 - recall_seeingdark: 0.9565 - precision_stargan: 0.9977 - recall_stargan: 0.9977 - precision_stylegan2: 0.9873 - recall_stylegan2: 0.9869 - precision_stylegan: 0.9903 - recall_stylegan: 0.9901 - precision_whichfaceisreal: 0.9810 - recall_whichfaceisreal: 0.9656 - precision_real: 0.9933 - recall_real: 0.9939 - val_loss: 0.7595 - val_precision_biggan: 0.6013 - val_recall_biggan: 0.2969 - val_precision_crn: 0.9480 - val_recall_crn: 1.0000 - val_precision_cyclegan: 0.9245 - val_recall_cyclegan: 0.2322 - val_precision_deepfake: 0.9734 - val_recall_deepfake: 0.9723 - val_precision_gaugan: 0.9560 - val_recall_gaugan: 0.7875 - val_precision_imle: 0.9811 - val_recall_imle: 0.9638 - val_precision_progan: 0.8892 - val_recall_progan: 0.4516 - val_precision_san: 1.0000 - val_recall_san: 0.0286 - val_precision_seeingdark: 0.8333 - val_recall_seeingdark: 0.6897 - val_precision_stargan: 0.9904 - val_recall_stargan: 0.9719 - val_precision_stylegan2: 0.8752 - val_recall_stylegan2: 0.6972 - val_precision_stylegan: 0.8375 - val_recall_stylegan: 0.7633 - val_precision_whichfaceisreal: 0.9333 - val_recall_whichfaceisreal: 0.1750 - val_precision_real: 0.8276 - val_recall_real: 0.9810\n"
     ]
    },
    {
     "name": "stdout",
     "output_type": "stream",
     "text": [
      "Epoch 6/10\n",
      "1807/1807 [==============================] - 398s 220ms/step - loss: 0.0208 - precision_biggan: 0.9914 - recall_biggan: 0.9906 - precision_crn: 0.9983 - recall_crn: 0.9985 - precision_cyclegan: 0.9833 - recall_cyclegan: 0.9752 - precision_deepfake: 0.9942 - recall_deepfake: 0.9951 - precision_gaugan: 0.9966 - recall_gaugan: 0.9953 - precision_imle: 0.9988 - recall_imle: 0.9985 - precision_progan: 0.9860 - recall_progan: 0.9875 - precision_san: 0.9420 - recall_san: 0.9353 - precision_seeingdark: 0.9741 - recall_seeingdark: 0.9826 - precision_stargan: 0.9976 - recall_stargan: 0.9953 - precision_stylegan2: 0.9908 - recall_stylegan2: 0.9904 - precision_stylegan: 0.9927 - recall_stylegan: 0.9893 - precision_whichfaceisreal: 0.9874 - recall_whichfaceisreal: 0.9766 - precision_real: 0.9947 - recall_real: 0.9958 - val_loss: 0.7249 - val_precision_biggan: 0.5046 - val_recall_biggan: 0.3406 - val_precision_crn: 0.9990 - val_recall_crn: 0.9990 - val_precision_cyclegan: 0.8137 - val_recall_cyclegan: 0.3934 - val_precision_deepfake: 0.9439 - val_recall_deepfake: 0.9919 - val_precision_gaugan: 0.9202 - val_recall_gaugan: 0.8213 - val_precision_imle: 0.9970 - val_recall_imle: 0.9843 - val_precision_progan: 0.7386 - val_recall_progan: 0.5297 - val_precision_san: 0.3953 - val_recall_san: 0.4857 - val_precision_seeingdark: 0.5417 - val_recall_seeingdark: 0.8966 - val_precision_stargan: 0.9080 - val_recall_stargan: 0.9875 - val_precision_stylegan2: 0.8238 - val_recall_stylegan2: 0.7973 - val_precision_stylegan: 0.9071 - val_recall_stylegan: 0.6924 - val_precision_whichfaceisreal: 0.8551 - val_recall_whichfaceisreal: 0.3688 - val_precision_real: 0.8661 - val_recall_real: 0.9622\n",
      "Epoch 7/10\n",
      "1517/1807 [========================>.....] - ETA: 53s - loss: 0.0212 - precision_biggan: 0.9906 - recall_biggan: 0.9860 - precision_crn: 0.9991 - recall_crn: 0.9994 - precision_cyclegan: 0.9831 - recall_cyclegan: 0.9818 - precision_deepfake: 0.9959 - recall_deepfake: 0.9969 - precision_gaugan: 0.9926 - recall_gaugan: 0.9918 - precision_imle: 0.9982 - recall_imle: 0.9973 - precision_progan: 0.9893 - recall_progan: 0.9856 - precision_san: 0.9746 - recall_san: 0.9829 - precision_seeingdark: 0.9677 - recall_seeingdark: 0.9677 - precision_stargan: 0.9935 - recall_stargan: 0.9953 - precision_stylegan2: 0.9902 - recall_stylegan2: 0.9898 - precision_stylegan: 0.9935 - recall_stylegan: 0.9910 - precision_whichfaceisreal: 0.9904 - recall_whichfaceisreal: 0.9904 - precision_real: 0.9951 - recall_real: 0.9961"
     ]
    }
   ],
   "source": [
    "model.fit(train_sequence, epochs = 10, validation_data = validation_sequence)"
   ]
  },
  {
   "cell_type": "code",
   "execution_count": null,
   "id": "75fbc84a",
   "metadata": {},
   "outputs": [],
   "source": []
  },
  {
   "cell_type": "code",
   "execution_count": null,
   "id": "322e7f8e",
   "metadata": {},
   "outputs": [],
   "source": []
  }
 ],
 "metadata": {
  "kernelspec": {
   "display_name": "Python 3.8 (tensorflow-gpu)",
   "language": "python",
   "name": "tensorflow-gpu"
  },
  "language_info": {
   "codemirror_mode": {
    "name": "ipython",
    "version": 3
   },
   "file_extension": ".py",
   "mimetype": "text/x-python",
   "name": "python",
   "nbconvert_exporter": "python",
   "pygments_lexer": "ipython3",
   "version": "3.10.13"
  }
 },
 "nbformat": 4,
 "nbformat_minor": 5
}
