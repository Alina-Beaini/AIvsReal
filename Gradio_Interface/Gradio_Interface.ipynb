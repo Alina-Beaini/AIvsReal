{
 "cells": [
  {
   "cell_type": "code",
   "execution_count": 23,
   "id": "6027875a",
   "metadata": {
    "scrolled": true
   },
   "outputs": [
    {
     "name": "stdout",
     "output_type": "stream",
     "text": [
      "Running on local URL:  http://127.0.0.1:7880\n",
      "\n",
      "To create a public link, set `share=True` in `launch()`.\n"
     ]
    },
    {
     "data": {
      "text/html": [
       "<div><iframe src=\"http://127.0.0.1:7880/\" width=\"100%\" height=\"500\" allow=\"autoplay; camera; microphone; clipboard-read; clipboard-write;\" frameborder=\"0\" allowfullscreen></iframe></div>"
      ],
      "text/plain": [
       "<IPython.core.display.HTML object>"
      ]
     },
     "metadata": {},
     "output_type": "display_data"
    },
    {
     "data": {
      "text/plain": []
     },
     "execution_count": 23,
     "metadata": {},
     "output_type": "execute_result"
    },
    {
     "name": "stdout",
     "output_type": "stream",
     "text": [
      "1/1 [==============================] - 0s 53ms/step\n",
      "1/1 [==============================] - 0s 11ms/step\n",
      "1/1 [==============================] - 0s 11ms/step\n",
      "1/1 [==============================] - 0s 11ms/step\n",
      "1/1 [==============================] - 0s 21ms/step\n",
      "1/1 [==============================] - 0s 21ms/step\n",
      "1/1 [==============================] - 0s 15ms/step\n",
      "1/1 [==============================] - 0s 16ms/step\n",
      "1/1 [==============================] - 0s 20ms/step\n",
      "1/1 [==============================] - 0s 11ms/step\n",
      "1/1 [==============================] - 0s 16ms/step\n",
      "1/1 [==============================] - 0s 11ms/step\n"
     ]
    }
   ],
   "source": [
    "import gradio as gr\n",
    "from PIL import Image as im_lib\n",
    "from PIL import ImageFilter\n",
    "from random import randint\n",
    "import numpy as np\n",
    "from keras import models\n",
    "from keras import layers\n",
    "\n",
    "\n",
    "\n",
    "def crop_image(image_array): #Gradio takes image, and automatically converts into an ndarray.\n",
    "    #This function will return a value which indicates whether the crop succeeded or not\n",
    "    #and why it failed, if it did. It will also return the cropped image if succeeded, and the original one otherwise.\n",
    "    #-1 indicates failure because of grayscale or non-RGB.\n",
    "    #-2 indicates failure because image is too small to crop\n",
    "    # 1 indicates success.\n",
    "    if len(image_array.shape)!=3: #This is a grayscale image.\n",
    "        return -1, image_array\n",
    "    x_dim, y_dim = image_array.shape[0], image_array.shape[1]\n",
    "    if x_dim < 256 or y_dim < 256:\n",
    "        return -2, image_array\n",
    "    image = im_lib.fromarray(image_array)\n",
    "    left, upper = randint(0, x_dim-256), randint(0, y_dim-256)\n",
    "    right, lower = 256+left, 256+upper\n",
    "    image = image.crop((left,upper,right,lower))\n",
    "    return 1, np.asarray(image)\n",
    "\n",
    "def HPF_filter(image):\n",
    "    return im_lib.fromarray(np.asarray(image)-np.asarray(image.filter(ImageFilter.GaussianBlur)))\n",
    "\n",
    "def final_image_array(image_array):\n",
    "    cropped_key, image_array = crop_image(image_array)\n",
    "    if cropped_key == 1:\n",
    "        image_array = np.asarray(HPF_filter(im_lib.fromarray(image_array)))\n",
    "    return image_array\n",
    "\n",
    "def create_model(model_weights_file = \"single_channel_model_best_val_real_precision_weights\"):\n",
    "    try:\n",
    "        recalled_model\n",
    "    except NameError:\n",
    "        pass\n",
    "    else:\n",
    "        del recalled_model\n",
    "    recalled_model = models.Sequential()\n",
    "    recalled_model.add(layers.Conv2D( 32, (3,3), activation='relu', input_shape=(256,256,3,)))\n",
    "    recalled_model.add( layers.MaxPooling2D( (2,2), strides = 2 ) )\n",
    "    recalled_model.add( layers.Conv2D(64, (3,3), activation='relu'))\n",
    "    recalled_model.add( layers.MaxPooling2D( (2,2), strides=2) )\n",
    "    recalled_model.add( layers.Flatten() )\n",
    "    recalled_model.add(layers.Dense(64, activation='relu'))\n",
    "    recalled_model.add(layers.Dense(14, activation='softmax'))\n",
    "    recalled_model.load_weights(model_weights_file)\n",
    "    recalled_model.compile(optimizer='adam',\n",
    "                  loss='categorical_crossentropy')\n",
    "    return recalled_model\n",
    "\n",
    "model_test = create_model()\n",
    "\n",
    "    \n",
    "def real_or_not(image_array, model = model_test):\n",
    "    cropped_key, cropped_image_array = crop_image(image_array)\n",
    "    if cropped_key == -1:\n",
    "        return \"This image cannot be processed as it is not RGB.\"\n",
    "    elif cropped_key == -2:\n",
    "        return \"This image is too small to be processed.\"\n",
    "    else:\n",
    "        image_array = final_image_array(cropped_image_array)\n",
    "        prediction_list = model.predict(image_array.reshape(1,256,256,3))\n",
    "        if np.argmax(prediction_list) == len(prediction_list[0]) - 1:\n",
    "            return \"This image is probably real.\"\n",
    "        else:\n",
    "            return \"This image is probably fake.\"\n",
    "        \n",
    "with gr.Blocks() as webpage:\n",
    "    gr.HTML(\"<center> <b> Using this webpage, determine if your image is AI-generated. </b> </center></br>\")\n",
    "    image_input = gr.Image()\n",
    "    text_output = gr.Textbox(interactive = False, value = \"This is where I'll display whether your image is real\", \n",
    "                            label = \"Answer: \")\n",
    "    image_button = gr.Button(\"Submit\")\n",
    "    image_button.click(real_or_not, inputs = image_input, outputs = text_output)\n",
    "    \n",
    "webpage.launch()"
   ]
  },
  {
   "cell_type": "code",
   "execution_count": null,
   "id": "ba80f31c",
   "metadata": {},
   "outputs": [],
   "source": []
  }
 ],
 "metadata": {
  "kernelspec": {
   "display_name": "Python [conda env:tensorflow-gpu] *",
   "language": "python",
   "name": "conda-env-tensorflow-gpu-py"
  },
  "language_info": {
   "codemirror_mode": {
    "name": "ipython",
    "version": 3
   },
   "file_extension": ".py",
   "mimetype": "text/x-python",
   "name": "python",
   "nbconvert_exporter": "python",
   "pygments_lexer": "ipython3",
   "version": "3.10.13"
  }
 },
 "nbformat": 4,
 "nbformat_minor": 5
}
