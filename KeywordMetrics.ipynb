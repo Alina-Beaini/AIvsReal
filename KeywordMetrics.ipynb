{
 "cells": [
  {
   "cell_type": "code",
   "execution_count": 1,
   "id": "6eb1477e",
   "metadata": {},
   "outputs": [],
   "source": [
    "from keras.metrics import Metric\n",
    "import keras.backend as backend\n",
    "import tensorflow as tf\n",
    "import numpy as np"
   ]
  },
  {
   "cell_type": "code",
   "execution_count": 106,
   "id": "0edb21ea",
   "metadata": {},
   "outputs": [],
   "source": [
    "class MulticlassPrecisionMetric(Metric):\n",
    "    def __init__(self, name = \"mp\", category_tested = 0):\n",
    "        super(MulticlassPrecisionMetric,self).__init__(name = name)\n",
    "        self.category_tested = category_tested\n",
    "        self.multi_true_positives = self.add_weight(name = 'tp' + str(self.category_tested), initializer = 'zeros')\n",
    "        self.multi_tf_positives = self.add_weight(name = 'tfp' + str(self.category_tested), initializer = 'zeros')\n",
    "        self.mp = self.add_weight(name = 'mp' + str(self.category_tested), initializer = 'zeros')\n",
    "    def update_state(self, y_true, y_pred, sample_weight = None):\n",
    "        y_true = tf.argmax(y_true, axis = -1)\n",
    "        y_pred = tf.argmax(y_pred, axis = -1)\n",
    "        tp = tf.reduce_sum(\\\n",
    "                         tf.cast(tf.equal(y_true,self.category_tested),tf.float32)\\\n",
    "                         *tf.cast(tf.equal(y_pred,self.category_tested),tf.float32))\n",
    "        self.multi_true_positives.assign_add(tp)\n",
    "        self.multi_tf_positives.assign_add(\\\n",
    "                                           tf.reduce_sum(\\\n",
    "                                                       tf.cast(tf.equal(y_pred,self.category_tested),tf.float32)))\n",
    "        self.mp.assign(self.multi_true_positives/(self.multi_tf_positives+backend.epsilon()))\n",
    "    def result(self):\n",
    "        return self.mp"
   ]
  },
  {
   "cell_type": "code",
   "execution_count": 112,
   "id": "95898803",
   "metadata": {},
   "outputs": [],
   "source": [
    "class MulticlassRecallMetric(Metric):\n",
    "    def __init__(self, name = \"mp\", category_tested = 0):\n",
    "        super(MulticlassRecallMetric,self).__init__(name = name)\n",
    "        self.category_tested = category_tested\n",
    "        self.multi_true_positives = self.add_weight(name = 'tp' + str(self.category_tested), initializer = 'zeros')\n",
    "        self.multi_predic = self.add_weight(name = 'tpr' + str(self.category_tested), initializer = 'zeros')\n",
    "        self.mr = self.add_weight(name = 'mr' + str(self.category_tested), initializer = 'zeros')\n",
    "    def update_state(self, y_true, y_pred,sample_weight = None):\n",
    "        y_true = tf.argmax(y_true, axis = -1)\n",
    "        y_pred = tf.argmax(y_pred, axis = -1)\n",
    "        tp = tf.reduce_sum(\\\n",
    "                         tf.cast(tf.equal(y_true,self.category_tested),tf.float32)\\\n",
    "                         *tf.cast(tf.equal(y_pred,self.category_tested),tf.float32))\n",
    "        self.multi_true_positives.assign_add(tp)\n",
    "        self.multi_predic.assign_add(\\\n",
    "                                           tf.reduce_sum(\\\n",
    "                                                       tf.cast(tf.equal(y_true,self.category_tested),tf.float32)))\n",
    "        self.mr.assign(self.multi_true_positives/(self.multi_predic+backend.epsilon()))\n",
    "    def result(self):\n",
    "        return self.mr"
   ]
  },
  {
   "cell_type": "code",
   "execution_count": 114,
   "id": "b03a9071",
   "metadata": {},
   "outputs": [],
   "source": [
    "#Test\n",
    "#m = MulticlassPrecisionMetric(category_tested = 0)\n",
    "#m2 = MulticlassRecallMetric(category_tested = 0)\n",
    "#m.update_state([[1,0],[0,1],[1,0]],[[1,0],[1,0],[0,1]])\n",
    "#m2.update_state([[1,0],[0,1],[1,0]],[[1,0],[0,1],[0,1]])\n",
    "#print(m.result())\n",
    "#print(m2.result())\n",
    "#m.update_state([[1,0]],[[0.9,0]])\n",
    "#m2.update_state([[1,0]],[[0.9,0]])\n",
    "#print(m.result())\n",
    "#print(m2.result())"
   ]
  },
  {
   "cell_type": "code",
   "execution_count": null,
   "id": "a28e4947",
   "metadata": {},
   "outputs": [],
   "source": []
  }
 ],
 "metadata": {
  "kernelspec": {
   "display_name": "Python 3.8 (tensorflow-gpu)",
   "language": "python",
   "name": "tensorflow-gpu"
  },
  "language_info": {
   "codemirror_mode": {
    "name": "ipython",
    "version": 3
   },
   "file_extension": ".py",
   "mimetype": "text/x-python",
   "name": "python",
   "nbconvert_exporter": "python",
   "pygments_lexer": "ipython3",
   "version": "3.10.13"
  }
 },
 "nbformat": 4,
 "nbformat_minor": 5
}
