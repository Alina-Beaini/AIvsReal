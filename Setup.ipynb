{
 "cells": [
  {
   "cell_type": "code",
   "execution_count": 1,
   "id": "f6abe60a",
   "metadata": {},
   "outputs": [
    {
     "name": "stdout",
     "output_type": "stream",
     "text": [
      "Paths are created\n",
      "Data is already downloaded and unzipped.\n"
     ]
    }
   ],
   "source": [
    "# Declare constants\n",
    "UNPROCESSED_DIRECTORY = \"CNN_synth_testset\"\n",
    "PROCESSED_DIRECTORY = \"preprocessedImages\"\n",
    "\n",
    "\n",
    "import os\n",
    "import gdown\n",
    "import zipfile\n",
    "\n",
    "if not os.path.exists(\"./\"+PROCESSED_DIRECTORY):\n",
    "    os.mkdir(PROCESSED_DIRECTORY)\n",
    "    print(\"Paths are created\")\n",
    "else:\n",
    "    print(\"Paths already exist\")\n",
    "    \n",
    "directory = os.listdir(\"./\")\n",
    "if UNPROCESSED_DIRECTORY not in directory:\n",
    "    print(\"Downloading CNN_synth_testset...\")\n",
    "    url = \"https://drive.google.com/u/0/uc?id=1z_fD3UKgWQyOTZIBbYSaQ-hz4AzUrLC1\"\n",
    "    output = \"temporaryData.zip\"\n",
    "    gdown.download(url, output, quiet = False)\n",
    "    print(\"Download completed. Now uncompressing.\")\n",
    "    with zipfile.ZipFile(\"temporaryData.zip\",\"r\") as zip_ref:\n",
    "        zip_ref.extractall(\"./\"+UNPROCESSED_DIRECTORY)\n",
    "    print(\"Data is now ready. Deleting temporary zip file.\")\n",
    "    os.remove(\"temporaryData.zip\")\n",
    "    print(\"Temporary zip file deleted.\")\n",
    "elif UNPROCESSED_DIRECTORY in directory:\n",
    "    print(\"Data is already downloaded and unzipped.\")"
   ]
  },
  {
   "cell_type": "code",
   "execution_count": null,
   "id": "3aaa9671",
   "metadata": {},
   "outputs": [],
   "source": []
  },
  {
   "cell_type": "code",
   "execution_count": null,
   "id": "fcbad8cf",
   "metadata": {},
   "outputs": [],
   "source": []
  }
 ],
 "metadata": {
  "kernelspec": {
   "display_name": "Python 3 (ipykernel)",
   "language": "python",
   "name": "python3"
  },
  "language_info": {
   "codemirror_mode": {
    "name": "ipython",
    "version": 3
   },
   "file_extension": ".py",
   "mimetype": "text/x-python",
   "name": "python",
   "nbconvert_exporter": "python",
   "pygments_lexer": "ipython3",
   "version": "3.10.13"
  }
 },
 "nbformat": 4,
 "nbformat_minor": 5
}
