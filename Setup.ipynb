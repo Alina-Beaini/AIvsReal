{
 "cells": [
  {
   "cell_type": "code",
   "execution_count": 1,
   "id": "f6abe60a",
   "metadata": {},
   "outputs": [],
   "source": [
    "# Declare constants\n",
    "UNPROCESSED_DIRECTORY = \"CNN_synth_testset\"\n",
    "DELETE_UNPROCESSED = False\n",
    "\n",
    "import os\n",
    "import gdown\n",
    "import zipfile\n",
    "import shutil\n",
    "\n",
    "def download_data(unprocessed_directory = UNPROCESSED_DIRECTORY, delete_unprocessed = DELETE_UNPROCESSED):\n",
    "    directory = os.listdir(\"./\")\n",
    "    if unprocessed_directory not in directory:\n",
    "        print(\"Downloading CNN_synth_testset...\")\n",
    "        url = \"https://drive.google.com/u/0/uc?id=1z_fD3UKgWQyOTZIBbYSaQ-hz4AzUrLC1\"\n",
    "        output = \"temporaryData.zip\"\n",
    "        gdown.download(url, output, quiet = False)\n",
    "        print(\"Download completed. Now uncompressing.\")\n",
    "        with zipfile.ZipFile(\"temporaryData.zip\",\"r\") as zip_ref:\n",
    "            zip_ref.extractall(\"./\"+unprocessed_directory)\n",
    "        print(\"Data is now ready. Deleting temporary zip file.\")\n",
    "        os.remove(\"temporaryData.zip\")\n",
    "        print(\"Temporary zip file deleted.\")\n",
    "        if delete_unprocessed: \n",
    "            shutil.rmtree(\"./\"+unprocessed_directory)\n",
    "    elif unprocessed_directory in directory:\n",
    "        print(\"Data is already downloaded and unzipped.\")"
   ]
  },
  {
   "cell_type": "code",
   "execution_count": null,
   "id": "3aaa9671",
   "metadata": {},
   "outputs": [],
   "source": []
  },
  {
   "cell_type": "code",
   "execution_count": null,
   "id": "fcbad8cf",
   "metadata": {},
   "outputs": [],
   "source": []
  }
 ],
 "metadata": {
  "kernelspec": {
   "display_name": "Python 3 (ipykernel)",
   "language": "python",
   "name": "python3"
  },
  "language_info": {
   "codemirror_mode": {
    "name": "ipython",
    "version": 3
   },
   "file_extension": ".py",
   "mimetype": "text/x-python",
   "name": "python",
   "nbconvert_exporter": "python",
   "pygments_lexer": "ipython3",
   "version": "3.10.13"
  }
 },
 "nbformat": 4,
 "nbformat_minor": 5
}
