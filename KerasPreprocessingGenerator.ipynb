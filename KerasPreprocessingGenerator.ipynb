{
 "cells": [
  {
   "cell_type": "code",
   "execution_count": 1,
   "id": "2c58861a",
   "metadata": {},
   "outputs": [],
   "source": [
    "# This code here is intended to create a custom keras layer.\n",
    "# This layer takes as input the path to the image\n",
    "# It outputs an array that can be given as an input to a convolutional neural network"
   ]
  },
  {
   "cell_type": "code",
   "execution_count": 1,
   "id": "4595bb91",
   "metadata": {},
   "outputs": [],
   "source": [
    "#Create constants and import libraries\n",
    "UNPROCESSED_DIRECTORY = \"CNN_synth_testset\"\n",
    "PROCESSED_DIRECTORY = \"preprocessedImages\"\n",
    "X_DIM = 256\n",
    "Y_DIM = 256\n",
    "import os\n",
    "import numpy as np\n",
    "from PIL import Image as imLib\n",
    "from keras.layers import Layer\n",
    "from keras import models\n",
    "from keras import layers\n",
    "from keras.utils import Sequence\n",
    "from math import ceil\n",
    "import time\n"
   ]
  },
  {
   "cell_type": "code",
   "execution_count": 2,
   "id": "212bb236",
   "metadata": {},
   "outputs": [],
   "source": [
    "#Build custom layer\n",
    "\n",
    "class ImageBatchSequence(Sequence):\n",
    "    def __init__(self, x_set, batch_size):\n",
    "        self.x = x_set\n",
    "        y_set = [(1 if \"FAKE\" in x else 0) for x in x_set] #This makes the output to be 1 (AI-generated) if FAKE is in pathname.\n",
    "        #                                                  # Otherwise, it makes the output 0 (not AI-generated)\n",
    "        self.y = y_set\n",
    "        self.batch_size = batch_size\n",
    "    def __len__(self):\n",
    "        return ceil(len(self.x)/self.batch_size)\n",
    "    def __getitem__(self, index):\n",
    "        low = index * self.batch_size\n",
    "        high = min(low+self.batch_size, len(self.x))\n",
    "        batch_x = self.x[low : high]\n",
    "        batch_y = self.y[low : high]\n",
    "        image_x_batch = []\n",
    "        for imPath in batch_x:\n",
    "            image = np.asarray(imLib.open(imPath)).reshape(256,256,3)\n",
    "            time.sleep(.5)\n",
    "            image_x_batch.append(image)\n",
    "        return np.array(image_x_batch), np.array(batch_y)\n"
   ]
  },
  {
   "cell_type": "code",
   "execution_count": 6,
   "id": "764f838f",
   "metadata": {},
   "outputs": [
    {
     "name": "stdout",
     "output_type": "stream",
     "text": [
      "Model: \"sequential_2\"\n",
      "_________________________________________________________________\n",
      " Layer (type)                Output Shape              Param #   \n",
      "=================================================================\n",
      " conv2d_2 (Conv2D)           (None, 249, 249, 1)       193       \n",
      "                                                                 \n",
      " flatten_2 (Flatten)         (None, 62001)             0         \n",
      "                                                                 \n",
      " dense_2 (Dense)             (None, 1)                 62002     \n",
      "                                                                 \n",
      "=================================================================\n",
      "Total params: 62,195\n",
      "Trainable params: 62,195\n",
      "Non-trainable params: 0\n",
      "_________________________________________________________________\n",
      "Epoch 1/2\n",
      "3/3 [==============================] - 3s 757ms/step - loss: nan - accuracy: 1.0000\n",
      "Epoch 2/2\n",
      "3/3 [==============================] - 3s 762ms/step - loss: nan - accuracy: 1.0000\n"
     ]
    }
   ],
   "source": [
    "# This is just to verify that the Keras Generator works.\n",
    "# You should comment this out before importing.\n",
    "# However, I think we should reorder all those files / structure later.\n",
    "# In other words, we should make a better heirarchy for our code.\n",
    "model = models.Sequential()\n",
    "model.compile(optimizer='rmsprop',\n",
    "              loss='categorical_crossentropy',\n",
    "              metrics=['accuracy'])\n",
    "tempList=['./CNN_synth_testset\\\\biggan\\\\0_real\\\\0--n01440764_5043.png', \n",
    "          './CNN_synth_testset\\\\biggan\\\\0_real\\\\0--n01440764_8600.png', \n",
    "          './CNN_synth_testset\\\\biggan\\\\0_real\\\\10--n01530575_10395.png',\n",
    "          './CNN_synth_testset\\\\biggan\\\\0_real\\\\100--n01860187_3168.png', \n",
    "          './CNN_synth_testset\\\\biggan\\\\0_real\\\\101--n01871265_1128.png']\n",
    "ImageBatchGenerator = ImageBatchSequence(x_set = tempList, batch_size = 2)\n",
    "model.add( layers.Conv2D( 1, (8,8), activation='relu', input_shape=(256,256,3,)  ) )\n",
    "model.add( layers.Flatten() )\n",
    "model.add(layers.Dense(1, activation='relu'))\n",
    "model.summary()\n",
    "history = model.fit(ImageBatchGenerator, epochs = 2)"
   ]
  },
  {
   "cell_type": "code",
   "execution_count": 4,
   "id": "609ef62b",
   "metadata": {},
   "outputs": [
    {
     "name": "stdout",
     "output_type": "stream",
     "text": [
      "Python 3.10.13\n",
      "[name: \"/device:CPU:0\"\n",
      "device_type: \"CPU\"\n",
      "memory_limit: 268435456\n",
      "locality {\n",
      "}\n",
      "incarnation: 11950116431221218201\n",
      "xla_global_id: -1\n",
      ", name: \"/device:GPU:0\"\n",
      "device_type: \"GPU\"\n",
      "memory_limit: 3643801600\n",
      "locality {\n",
      "  bus_id: 1\n",
      "  links {\n",
      "  }\n",
      "}\n",
      "incarnation: 1686283512049067983\n",
      "physical_device_desc: \"device: 0, name: NVIDIA GeForce RTX 3060 Laptop GPU, pci bus id: 0000:01:00.0, compute capability: 8.6\"\n",
      "xla_global_id: 416903419\n",
      "]\n",
      "2.10.0\n",
      "Num GPUs Available:  1\n",
      "WARNING:tensorflow:From C:\\Users\\Hasan\\AppData\\Local\\Temp\\ipykernel_15428\\2094703656.py:8: is_gpu_available (from tensorflow.python.framework.test_util) is deprecated and will be removed in a future version.\n",
      "Instructions for updating:\n",
      "Use `tf.config.list_physical_devices('GPU')` instead.\n"
     ]
    },
    {
     "data": {
      "text/plain": [
       "True"
      ]
     },
     "execution_count": 4,
     "metadata": {},
     "output_type": "execute_result"
    }
   ],
   "source": [
    "#Check python version and whetehr GPU is there\n",
    "!python --version\n",
    "import tensorflow as tf\n",
    "from tensorflow.python.client import device_lib\n",
    "print(device_lib.list_local_devices())\n",
    "print(tf.__version__)\n",
    "print(\"Num GPUs Available: \", len(tf.config.experimental.list_physical_devices('GPU')))\n",
    "tf.test.is_gpu_available()\n"
   ]
  },
  {
   "cell_type": "code",
   "execution_count": null,
   "id": "d227bfcb",
   "metadata": {},
   "outputs": [],
   "source": []
  }
 ],
 "metadata": {
  "kernelspec": {
   "display_name": "Python 3 (ipykernel)",
   "language": "python",
   "name": "python3"
  },
  "language_info": {
   "codemirror_mode": {
    "name": "ipython",
    "version": 3
   },
   "file_extension": ".py",
   "mimetype": "text/x-python",
   "name": "python",
   "nbconvert_exporter": "python",
   "pygments_lexer": "ipython3",
   "version": "3.10.13"
  }
 },
 "nbformat": 4,
 "nbformat_minor": 5
}
