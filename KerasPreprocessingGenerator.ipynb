{
 "cells": [
  {
   "cell_type": "code",
   "execution_count": 5,
   "id": "2c58861a",
   "metadata": {},
   "outputs": [],
   "source": [
    "# This code here is intended to create a custom keras layer.\n",
    "# This layer takes as input the path to the image\n",
    "# It outputs an array that can be given as an input to a convolutional neural network"
   ]
  },
  {
   "cell_type": "code",
   "execution_count": 6,
   "id": "4595bb91",
   "metadata": {},
   "outputs": [],
   "source": [
    "#Create constants and import libraries\n",
    "X_DIM = 256\n",
    "Y_DIM = 256\n",
    "import os\n",
    "import numpy as np\n",
    "from PIL import Image as im_lib\n",
    "from keras.layers import Layer\n",
    "from keras import models\n",
    "from keras import layers\n",
    "from keras.utils import Sequence\n",
    "from math import ceil\n",
    "import time\n"
   ]
  },
  {
   "cell_type": "code",
   "execution_count": 8,
   "id": "cd70ee47",
   "metadata": {},
   "outputs": [],
   "source": [
    "def categorical_output(image_path):\n",
    "    keywords = [\"biggan\", \"crn\", \"cyclegan\",\"deepfake\",\"gaugan\",\"imle\",\"progan\",\"san\",\"seeingdark\",\"stargan\",\"stylegan2\", \"stylegan\",\n",
    "           \"whichfaceisreal\"]\n",
    "    category = [0] * (len(keywords) + 1)\n",
    "    for kwd_index in range(len(keywords)):\n",
    "        kwd = keywords[kwd_index]\n",
    "        if kwd in image_path:\n",
    "            category[kwd_index] = 1\n",
    "            return category\n",
    "    category[-1] = 1\n",
    "    return category"
   ]
  },
  {
   "cell_type": "code",
   "execution_count": 9,
   "id": "212bb236",
   "metadata": {},
   "outputs": [],
   "source": [
    "class ImageBatchSequence(Sequence):\n",
    "    def __init__(self, x_set, batch_size, x_dim = X_DIM, y_dim = Y_DIM, filterFunction = None, output_function = None,\n",
    "                normalization_factor = 256):\n",
    "        self.x = x_set\n",
    "        if output_function is None:\n",
    "            y_set = [(1 if \"fake\" in image_path else 0) for image_path in x_set] #This makes the output to be 1 (AI-generated) if FAKE is in pathname.\n",
    "            #                                                  # Otherwise, it makes the output 0 (not AI-generated)\n",
    "        else:\n",
    "            y_set = [output_function(image_path) for image_path in x_set]\n",
    "        self.y = y_set\n",
    "        self.batch_size = batch_size\n",
    "        self.x_dim = x_dim\n",
    "        self.y_dim = y_dim\n",
    "    def __len__(self):\n",
    "        return ceil(len(self.x)/self.batch_size)\n",
    "    def __getitem__(self, index):\n",
    "        low = index * self.batch_size\n",
    "        high = min(low+self.batch_size, len(self.x))\n",
    "        batch_x = self.x[low : high]\n",
    "        batch_y = self.y[low : high]\n",
    "        image_x_batch = []\n",
    "        for image_path in batch_x:\n",
    "            image = im_lib.open(image_path)\n",
    "            if filterFunction is not None:\n",
    "                image = filterFunction(image)\n",
    "            image_array = np.asarray(image).reshape(self.x_dim,self.y_dim,3)\n",
    "            image_x_batch.append(image_array/normalization_factor)\n",
    "        return np.array(image_x_batch), np.array(batch_y)"
   ]
  },
  {
   "cell_type": "code",
   "execution_count": null,
   "id": "7b18c033",
   "metadata": {},
   "outputs": [],
   "source": []
  }
 ],
 "metadata": {
  "kernelspec": {
   "display_name": "Python 3 (ipykernel)",
   "language": "python",
   "name": "python3"
  },
  "language_info": {
   "codemirror_mode": {
    "name": "ipython",
    "version": 3
   },
   "file_extension": ".py",
   "mimetype": "text/x-python",
   "name": "python",
   "nbconvert_exporter": "python",
   "pygments_lexer": "ipython3",
   "version": "3.10.13"
  }
 },
 "nbformat": 4,
 "nbformat_minor": 5
}
