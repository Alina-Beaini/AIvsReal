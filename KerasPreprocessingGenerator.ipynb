{
 "cells": [
  {
   "cell_type": "code",
   "execution_count": 1,
   "id": "2c58861a",
   "metadata": {},
   "outputs": [],
   "source": [
    "# This code here is intended to create a custom keras layer.\n",
    "# This layer takes as input the path to the image\n",
    "# It outputs an array that can be given as an input to a convolutional neural network"
   ]
  },
  {
   "cell_type": "code",
   "execution_count": 23,
   "id": "4595bb91",
   "metadata": {},
   "outputs": [],
   "source": [
    "#Create constants and import libraries\n",
    "X_DIM = 256\n",
    "Y_DIM = 256\n",
    "import os\n",
    "import numpy as np\n",
    "from PIL import Image as imLib\n",
    "from keras.layers import Layer\n",
    "from keras import models\n",
    "from keras import layers\n",
    "from keras.utils import Sequence\n",
    "from math import ceil\n",
    "import time\n"
   ]
  },
  {
   "cell_type": "code",
   "execution_count": 24,
   "id": "212bb236",
   "metadata": {},
   "outputs": [],
   "source": [
    "#Build custom layer\n",
    "\n",
    "class ImageBatchSequence(Sequence):\n",
    "    def __init__(self, x_set, batch_size, x_dim = X_DIM, y_dim = Y_DIM):\n",
    "        self.x = x_set\n",
    "        y_set = [(1 if \"fake\" in x else 0) for x in x_set] #This makes the output to be 1 (AI-generated) if FAKE is in pathname.\n",
    "        #                                                  # Otherwise, it makes the output 0 (not AI-generated)\n",
    "        self.y = y_set\n",
    "        self.batch_size = batch_size\n",
    "        self.x_dim = x_dim\n",
    "        self.y_dim = y_dim\n",
    "    def __len__(self):\n",
    "        return ceil(len(self.x)/self.batch_size)\n",
    "    def __getitem__(self, index):\n",
    "        low = index * self.batch_size\n",
    "        high = min(low+self.batch_size, len(self.x))\n",
    "        batch_x = self.x[low : high]\n",
    "        batch_y = self.y[low : high]\n",
    "        image_x_batch = []\n",
    "        for imPath in batch_x:\n",
    "            image = np.asarray(imLib.open(imPath)).reshape(self.x_dim,self.y_dim,3)\n",
    "            image_x_batch.append(image)\n",
    "        return np.array(image_x_batch), np.array(batch_y)\n"
   ]
  }
 ],
 "metadata": {
  "kernelspec": {
   "display_name": "Python 3 (ipykernel)",
   "language": "python",
   "name": "python3"
  },
  "language_info": {
   "codemirror_mode": {
    "name": "ipython",
    "version": 3
   },
   "file_extension": ".py",
   "mimetype": "text/x-python",
   "name": "python",
   "nbconvert_exporter": "python",
   "pygments_lexer": "ipython3",
   "version": "3.10.13"
  }
 },
 "nbformat": 4,
 "nbformat_minor": 5
}
