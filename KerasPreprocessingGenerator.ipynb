{
 "cells": [
  {
   "cell_type": "code",
   "execution_count": null,
   "id": "e9d81437",
   "metadata": {},
   "outputs": [],
   "source": [
    "# This code here is intended to create a custom keras layer.\n",
    "# This layer takes as input the path to the image\n",
    "# It outputs an array that can be given as an input to a convolutional neural network"
   ]
  },
  {
   "cell_type": "code",
   "execution_count": 12,
   "id": "b9463145",
   "metadata": {},
   "outputs": [],
   "source": [
    "#Create constants and import libraries\n",
    "UNPROCESSED_DIRECTORY = \"CNN_synth_testset\"\n",
    "PROCESSED_DIRECTORY = \"preprocessedImages\"\n",
    "X_DIM = 256\n",
    "Y_DIM = 256\n",
    "import os\n",
    "import numpy as np\n",
    "from PIL import Image as imLib\n",
    "from keras.layers import Layer\n",
    "from keras import models\n",
    "from keras import layers\n",
    "from keras.utils import Sequence\n",
    "from math import ceil\n"
   ]
  },
  {
   "cell_type": "code",
   "execution_count": 8,
   "id": "15263ccb",
   "metadata": {},
   "outputs": [],
   "source": [
    "#Build custom layer\n",
    "\n",
    "class ImageBatchSequence(Sequence):\n",
    "    def __init__(self, x_set, batch_size):\n",
    "        self.x = x_set\n",
    "        y_set = [(1 if \"FAKE\" in x else 0) for x in x_set] #This makes the output to be 1 (AI-generated) if FAKE is in pathname.\n",
    "        #                                                  # Otherwise, it makes the output 0 (not AI-generated)\n",
    "        self.y = y_set\n",
    "        self.batch_size = batch_size\n",
    "    def __len__(self):\n",
    "        return ceil(len(self.x)/self.batch_size)\n",
    "    def __getitem__(self, index):\n",
    "        low = index * self.batch_size\n",
    "        high = min(low+self.batch_size, len(self.x))\n",
    "        batch_x = self.x[low : high]\n",
    "        batch_y = self.y[low : high]\n",
    "        image_x_batch = []\n",
    "        for imPath in batch_x:\n",
    "            image = np.asarray(imLib.open(imPath))\n",
    "            image_x_batch.append(image)\n",
    "        return np.array(image_x_batch), np.array(batch_y)\n"
   ]
  },
  {
   "cell_type": "code",
   "execution_count": 13,
   "id": "7b9df3cd",
   "metadata": {},
   "outputs": [
    {
     "name": "stdout",
     "output_type": "stream",
     "text": [
      "Model: \"sequential_7\"\n",
      "_________________________________________________________________\n",
      " Layer (type)                Output Shape              Param #   \n",
      "=================================================================\n",
      " conv2d (Conv2D)             (None, 26, 26, 32)        320       \n",
      "                                                                 \n",
      "=================================================================\n",
      "Total params: 320\n",
      "Trainable params: 320\n",
      "Non-trainable params: 0\n",
      "_________________________________________________________________\n"
     ]
    }
   ],
   "source": [
    "model = models.Sequential()\n",
    "model.compile(optimizer='rmsprop',\n",
    "              loss='categorical_crossentropy',\n",
    "              metrics=['accuracy'])\n",
    "tempList=['./CNN_synth_testset\\\\biggan\\\\0_real\\\\0--n01440764_5043.png', './CNN_synth_testset\\\\biggan\\\\0_real\\\\0--n01440764_8600.png', './CNN_synth_testset\\\\biggan\\\\0_real\\\\10--n01530575_10395.png', './CNN_synth_testset\\\\biggan\\\\0_real\\\\100--n01860187_3168.png', './CNN_synth_testset\\\\biggan\\\\0_real\\\\101--n01871265_1128.png']\n",
    "ImageBatchGenerator = ImageBatchSequence(x_set = tempList, batch_size = 32)\n"
   ]
  },
  {
   "cell_type": "code",
   "execution_count": null,
   "id": "f8f83801",
   "metadata": {},
   "outputs": [],
   "source": []
  }
 ],
 "metadata": {
  "kernelspec": {
   "display_name": "Python 3 (ipykernel)",
   "language": "python",
   "name": "python3"
  },
  "language_info": {
   "codemirror_mode": {
    "name": "ipython",
    "version": 3
   },
   "file_extension": ".py",
   "mimetype": "text/x-python",
   "name": "python",
   "nbconvert_exporter": "python",
   "pygments_lexer": "ipython3",
   "version": "3.10.13"
  }
 },
 "nbformat": 4,
 "nbformat_minor": 5
}
