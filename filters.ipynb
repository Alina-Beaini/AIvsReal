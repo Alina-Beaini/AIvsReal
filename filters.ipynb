{
 "cells": [
  {
   "cell_type": "code",
   "execution_count": 33,
   "id": "7fd07464",
   "metadata": {},
   "outputs": [],
   "source": [
    "\n",
    "# Applies a high-pass filter to processed images and saves them to a new directory\n",
    "PROCESSED_DIRECTORY = \"Test1_modular\"\n",
    "HIGHPASS_DIRECTORY = \"Highpass\"\n",
    "\n",
    "import os\n",
    "from PIL import Image as im_lib\n",
    "from PIL import ImageFilter\n",
    "\n",
    "def obtain_processed_image_paths(processed_directory = PROCESSED_DIRECTORY):\n",
    "    data_directory = os.listdir(\"./\"+processed_directory)\n",
    "    list_of_processed_image_paths = []\n",
    "    for dirpath, dirname, filename in os.walk(\"./\"+processed_directory):\n",
    "        if not dirname:\n",
    "            for dirpath2, dirname2, filename2 in os.walk(dirpath):\n",
    "                for filedir in filename2:\n",
    "                    list_of_processed_image_paths.append(dirpath+\"./\"+filedir)\n",
    "    return list_of_processed_image_paths\n",
    "\n",
    "\n",
    "def filter_images(list_of_processed_image_paths,highpass_directory=HIGHPASS_DIRECTORY):\n",
    "    if not os.path.exists(\"./\"+highpass_directory):\n",
    "        os.mkdir(highpass_directory)\n",
    "    m = 0\n",
    "    N = len(list_of_processed_image_paths)\n",
    "    for image_path in list_of_processed_image_paths:\n",
    "        m += 1\n",
    "        image = im_lib.open(image_path).convert('L')\n",
    "        highpass = image.filter(ImageFilter.Kernel((3,3),(0,-1,0,-1,4,-1,0,-1,0),1,0))\n",
    "        highpass.save(\"./\"+highpass_directory+\"./\"+os.path.basename(image_path),quality= 100)\n",
    "        print(str(m)+\"/\"+str(N), end=\"\\r\")"
   ]
  },
  {
   "cell_type": "code",
   "execution_count": 34,
   "id": "ecda7a68",
   "metadata": {},
   "outputs": [
    {
     "name": "stdout",
     "output_type": "stream",
     "text": [
      "90325/90325\r"
     ]
    }
   ],
   "source": [
    "processed_image_paths=obtain_processed_image_paths()\n",
    "filter_images(processed_image_paths)"
   ]
  },
  {
   "cell_type": "code",
   "execution_count": null,
   "id": "2a637a86",
   "metadata": {},
   "outputs": [],
   "source": [
    "#highpass filter in scipy\n",
    "import matplotlib.pyplot as plt\n",
    "import numpy as np\n",
    "from scipy import ndimage\n",
    "from skimage.io import imread\n",
    "\n",
    "\n",
    "def highpass(image):\n",
    "    data = np.array(im, dtype=float)\n",
    "    kernel = np.array([[0, -1, 0],\n",
    "                   [-1,  4, -1],\n",
    "                   [0, -1, 0]])\n",
    "    return(ndimage.convolve(data,kernel))\n"
   ]
  }
 ],
 "metadata": {
  "kernelspec": {
   "display_name": "Python 3 (ipykernel)",
   "language": "python",
   "name": "python3"
  },
  "language_info": {
   "codemirror_mode": {
    "name": "ipython",
    "version": 3
   },
   "file_extension": ".py",
   "mimetype": "text/x-python",
   "name": "python",
   "nbconvert_exporter": "python",
   "pygments_lexer": "ipython3",
   "version": "3.11.4"
  }
 },
 "nbformat": 4,
 "nbformat_minor": 5
}
